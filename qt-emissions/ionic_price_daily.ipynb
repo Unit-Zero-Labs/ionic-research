{
  "nbformat": 4,
  "nbformat_minor": 0,
  "metadata": {
    "colab": {
      "provenance": [],
      "collapsed_sections": [
        "kYTbppvCjAkD"
      ]
    },
    "kernelspec": {
      "name": "python3",
      "display_name": "Python 3"
    },
    "language_info": {
      "name": "python"
    }
  },
  "cells": [
    {
      "cell_type": "code",
      "source": [
        "pip install pycoingecko"
      ],
      "metadata": {
        "colab": {
          "base_uri": "https://localhost:8080/"
        },
        "id": "jhsmB-YwKLWs",
        "outputId": "90d42db5-9748-4da7-a76c-ab8c86968eed"
      },
      "execution_count": null,
      "outputs": [
        {
          "output_type": "stream",
          "name": "stdout",
          "text": [
            "Collecting pycoingecko\n",
            "  Downloading pycoingecko-3.2.0-py3-none-any.whl.metadata (16 kB)\n",
            "Requirement already satisfied: requests in /usr/local/lib/python3.10/dist-packages (from pycoingecko) (2.32.3)\n",
            "Requirement already satisfied: charset-normalizer<4,>=2 in /usr/local/lib/python3.10/dist-packages (from requests->pycoingecko) (3.4.0)\n",
            "Requirement already satisfied: idna<4,>=2.5 in /usr/local/lib/python3.10/dist-packages (from requests->pycoingecko) (3.10)\n",
            "Requirement already satisfied: urllib3<3,>=1.21.1 in /usr/local/lib/python3.10/dist-packages (from requests->pycoingecko) (2.2.3)\n",
            "Requirement already satisfied: certifi>=2017.4.17 in /usr/local/lib/python3.10/dist-packages (from requests->pycoingecko) (2024.8.30)\n",
            "Downloading pycoingecko-3.2.0-py3-none-any.whl (10 kB)\n",
            "Installing collected packages: pycoingecko\n",
            "Successfully installed pycoingecko-3.2.0\n"
          ]
        }
      ]
    },
    {
      "cell_type": "markdown",
      "source": [
        "## PRIVATE UNLOCKS STRATEGY"
      ],
      "metadata": {
        "id": "kYTbppvCjAkD"
      }
    },
    {
      "cell_type": "code",
      "execution_count": null,
      "metadata": {
        "id": "sr3CknrAJ8nU"
      },
      "outputs": [],
      "source": [
        "import pandas as pd\n",
        "from pycoingecko import CoinGeckoAPI\n",
        "import requests\n",
        "from datetime import datetime, timedelta\n",
        "from google.colab import auth\n",
        "import gspread\n",
        "from google.auth import default\n",
        "from datetime import date\n",
        "\n",
        "cg = CoinGeckoAPI()\n",
        "\n",
        "def get_price_data(token_ids, days=5):\n",
        "    price_data = {}\n",
        "    for token_id in token_ids:\n",
        "        try:\n",
        "            data = cg.get_coin_market_chart_by_id(id=token_id, vs_currency='usd', days=days)\n",
        "            df = pd.DataFrame(data['prices'], columns=['timestamp', 'price'])\n",
        "            df['timestamp'] = pd.to_datetime(df['timestamp'], unit='ms')\n",
        "            df.set_index('timestamp', inplace=True)\n",
        "            price_data[token_id] = df['price']\n",
        "        except Exception as e:\n",
        "            print(f\"Error fetching data for {token_id}: {e}\")\n",
        "    return pd.DataFrame(price_data).resample('D').last().ffill()\n",
        "\n",
        "start_time = datetime.now() - timedelta(days=5)\n",
        "end_time = datetime.now()\n",
        "\n",
        "coingecko_ids = ['ionic-protocol']\n",
        "price_data = get_price_data(coingecko_ids)\n",
        "latest_price = price_data.iloc[-1]['ionic-protocol']\n",
        "auth.authenticate_user()\n",
        "\n",
        "creds, _ = default()\n",
        "access = gspread.authorize(creds)\n",
        "\n",
        "# Open the workbook and sheet\n",
        "wb_id_dest = '1tWPMKIqRxg_noABRmQLhti0qXwG3c8bM30bvdzvxruE'\n",
        "sheet_id_dest = 987349207\n",
        "\n",
        "wb_dest = access.open_by_key(wb_id_dest)\n",
        "sheet_dest = wb_dest.get_worksheet_by_id(sheet_id_dest)\n",
        "\n",
        "# Update cell B2 with the latest price\n",
        "sheet_dest.update('C1', [[latest_price]])\n",
        "\n",
        "today = date.today().strftime(\"%Y-%m-%d\")\n",
        "print(f\"Latest price ({latest_price}) exported to cell C1. Last refresh {today}\")"
      ]
    },
    {
      "cell_type": "markdown",
      "source": [
        "## DAILY PRICES SHEET"
      ],
      "metadata": {
        "id": "nAK3-eslpK0z"
      }
    },
    {
      "cell_type": "code",
      "source": [
        "# DAILY PRICES SHEET\n",
        "import pandas as pd\n",
        "from pycoingecko import CoinGeckoAPI\n",
        "import requests\n",
        "from datetime import datetime, timedelta\n",
        "from google.colab import auth\n",
        "import gspread\n",
        "from google.auth import default\n",
        "from datetime import date\n",
        "\n",
        "cg = CoinGeckoAPI()\n",
        "\n",
        "def get_price_data(token_ids, days=5):\n",
        "    price_data = {}\n",
        "    for token_id in token_ids:\n",
        "        try:\n",
        "            data = cg.get_coin_market_chart_by_id(id=token_id, vs_currency='usd', days=days)\n",
        "            df = pd.DataFrame(data['prices'], columns=['timestamp', 'price'])\n",
        "            df['timestamp'] = pd.to_datetime(df['timestamp'], unit='ms')\n",
        "            df.set_index('timestamp', inplace=True)\n",
        "            price_data[token_id] = df['price']\n",
        "        except Exception as e:\n",
        "            print(f\"Error fetching data for {token_id}: {e}\")\n",
        "    return pd.DataFrame(price_data).resample('D').last().ffill()\n",
        "\n",
        "start_time = datetime.now() - timedelta(days=5)\n",
        "end_time = datetime.now()\n",
        "\n",
        "coingecko_ids = ['ionic-protocol','ethereum', 'aerodrome-finance']\n",
        "price_data = get_price_data(coingecko_ids)\n",
        "\n",
        "\n",
        "latest_price_ion = price_data.iloc[-1]['ionic-protocol']\n",
        "latest_price_eth = price_data.iloc[-1]['ethereum']\n",
        "latest_price_aero = price_data.iloc[-1]['aerodrome-finance']\n",
        "\n",
        "auth.authenticate_user()\n",
        "creds, _ = default()\n",
        "access = gspread.authorize(creds)\n",
        "\n",
        "# Open the workbook and sheet\n",
        "wb_id_dest = '1tWPMKIqRxg_noABRmQLhti0qXwG3c8bM30bvdzvxruE'\n",
        "sheet_id_dest = 2011546042\n",
        "\n",
        "wb_dest = access.open_by_key(wb_id_dest)\n",
        "sheet_dest = wb_dest.get_worksheet_by_id(sheet_id_dest)\n",
        "\n",
        "# Update cell B1+B4 with the latest prices\n",
        "sheet_dest.update('B2', [[latest_price_ion]])\n",
        "sheet_dest.update('B3', [[latest_price_eth]])\n",
        "sheet_dest.update('B4', [[latest_price_aero]])\n",
        "\n",
        "today = date.today().strftime(\"%Y-%m-%d\")\n",
        "print(f\"Latest prices exported to cell B2, B3, and B4. Last refresh {today}\")"
      ],
      "metadata": {
        "id": "Nuahx4hGoP7J"
      },
      "execution_count": null,
      "outputs": []
    },
    {
      "cell_type": "markdown",
      "source": [
        "# DAILY PRICES 30D MOVING AVGS"
      ],
      "metadata": {
        "id": "HSlVGAoVi3Ie"
      }
    },
    {
      "cell_type": "code",
      "source": [
        "# DAILY PRICES SHEET\n",
        "# Get 30 days of price data\n",
        "coingecko_ids = ['ionic-protocol', 'ethereum', 'aerodrome-finance']\n",
        "price_data = get_price_data(coingecko_ids, days=30)\n",
        "\n",
        "# Calculate 30-day moving averages and percent changes for each token\n",
        "results = {}\n",
        "for token in coingecko_ids:\n",
        "    # Calculate moving average\n",
        "    moving_average = price_data[token].mean()\n",
        "\n",
        "    # Calculate percent change\n",
        "    first_price = price_data[token].iloc[0]\n",
        "    last_price = price_data[token].iloc[-1]\n",
        "    percent_change = ((last_price - first_price) / first_price) * 100\n",
        "\n",
        "    results[token] = {\n",
        "        'ma': moving_average,\n",
        "        'pct': f\"{percent_change:.2f}%\"\n",
        "    }\n",
        "\n",
        "# Open the workbook and sheet\n",
        "wb_id_dest = '1tWPMKIqRxg_noABRmQLhti0qXwG3c8bM30bvdzvxruE'\n",
        "sheet_id_dest = 2011546042\n",
        "\n",
        "wb_dest = access.open_by_key(wb_id_dest)\n",
        "sheet_dest = wb_dest.get_worksheet_by_id(sheet_id_dest)\n",
        "\n",
        "# Update cells with values (ION in C2/D2, ETH in C3/D3, AERO in C4/D4)\n",
        "sheet_dest.update('C2:D4', [\n",
        "    [results['ionic-protocol']['ma'], results['ionic-protocol']['pct']],\n",
        "    [results['ethereum']['ma'], results['ethereum']['pct']],\n",
        "    [results['aerodrome-finance']['ma'], results['aerodrome-finance']['pct']]\n",
        "])\n",
        "\n",
        "today = date.today().strftime(\"%Y-%m-%d\")\n",
        "print(f\"30-day moving averages and percent changes exported for ION, ETH, and AERO. Last refresh {today}\")"
      ],
      "metadata": {
        "id": "7V01sWkcrovY"
      },
      "execution_count": null,
      "outputs": []
    },
    {
      "cell_type": "markdown",
      "source": [
        "## Other sheets"
      ],
      "metadata": {
        "id": "4u9f9CJApG1G"
      }
    },
    {
      "cell_type": "code",
      "source": [
        "# Get 30 days of price data\n",
        "coingecko_ids = ['ionic-protocol']\n",
        "price_data = get_price_data(coingecko_ids, days=30)\n",
        "\n",
        "# Calculate 30-day moving average\n",
        "moving_average = price_data['ionic-protocol'].mean()\n",
        "\n",
        "# Calculate percent change\n",
        "first_price = price_data['ionic-protocol'].iloc[0]  # First day's price\n",
        "last_price = price_data['ionic-protocol'].iloc[-1]  # Last day's price\n",
        "percent_change = ((last_price - first_price) / first_price) * 100\n",
        "\n",
        "# Open the workbook and sheet\n",
        "wb_id_dest = '1tWPMKIqRxg_noABRmQLhti0qXwG3c8bM30bvdzvxruE'\n",
        "sheet_id_dest = 987349207\n",
        "\n",
        "wb_dest = access.open_by_key(wb_id_dest)\n",
        "sheet_dest = wb_dest.get_worksheet_by_id(sheet_id_dest)\n",
        "\n",
        "# Update cells with values\n",
        "sheet_dest.update('I1', [[moving_average]])\n",
        "\n",
        "# Format percent change and apply conditional formatting\n",
        "formatted_percent = f\"{percent_change:.2f}%\"\n",
        "sheet_dest.update('K1', [[formatted_percent]])\n",
        "\n",
        "\n",
        "today = date.today().strftime(\"%Y-%m-%d\")\n",
        "print(f\"30-day moving average ({moving_average}) and percent change ({formatted_percent}) exported. Last refresh {today}\")"
      ],
      "metadata": {
        "id": "2e0PY1Uft36L"
      },
      "execution_count": null,
      "outputs": []
    },
    {
      "cell_type": "markdown",
      "source": [
        "## AERO PRICE"
      ],
      "metadata": {
        "id": "bgqWYvGii9JB"
      }
    },
    {
      "cell_type": "code",
      "source": [
        "# Get current price data for AERO\n",
        "coingecko_ids = ['aerodrome-finance']\n",
        "price_data = get_price_data(coingecko_ids, days=1)  # Just need current price\n",
        "\n",
        "# Get the latest price\n",
        "latest_price = price_data['aerodrome-finance'].iloc[-1]\n",
        "\n",
        "# Open the workbook and sheet\n",
        "wb_id_dest = '1tWPMKIqRxg_noABRmQLhti0qXwG3c8bM30bvdzvxruE'\n",
        "sheet_id_dest = 987349207\n",
        "\n",
        "wb_dest = access.open_by_key(wb_id_dest)\n",
        "sheet_dest = wb_dest.get_worksheet_by_id(sheet_id_dest)\n",
        "\n",
        "# Update cell with the latest price\n",
        "sheet_dest.update('E1', [[latest_price]])\n",
        "\n",
        "today = date.today().strftime(\"%Y-%m-%d\")\n",
        "print(f\"Latest AERO price ({latest_price}) exported to cell E1. Last refresh {today}\")"
      ],
      "metadata": {
        "id": "aJRwAtAfuWWP"
      },
      "execution_count": null,
      "outputs": []
    },
    {
      "cell_type": "markdown",
      "source": [
        "## AERO POL STRATEGY sheet updates"
      ],
      "metadata": {
        "id": "eZb6_7L4jjrO"
      }
    },
    {
      "cell_type": "code",
      "source": [
        "import pandas as pd\n",
        "from pycoingecko import CoinGeckoAPI\n",
        "import requests\n",
        "from datetime import datetime, timedelta\n",
        "from google.colab import auth\n",
        "import gspread\n",
        "from google.auth import default\n",
        "from datetime import date\n",
        "\n",
        "cg = CoinGeckoAPI()\n",
        "\n",
        "def get_price_data(token_ids, days=5):\n",
        "    price_data = {}\n",
        "    for token_id in token_ids:\n",
        "        try:\n",
        "            data = cg.get_coin_market_chart_by_id(id=token_id, vs_currency='usd', days=days)\n",
        "            df = pd.DataFrame(data['prices'], columns=['timestamp', 'price'])\n",
        "            df['timestamp'] = pd.to_datetime(df['timestamp'], unit='ms')\n",
        "            df.set_index('timestamp', inplace=True)\n",
        "            price_data[token_id] = df['price']\n",
        "        except Exception as e:\n",
        "            print(f\"Error fetching data for {token_id}: {e}\")\n",
        "    return pd.DataFrame(price_data).resample('D').last().ffill()\n",
        "\n",
        "start_time = datetime.now() - timedelta(days=5)\n",
        "end_time = datetime.now()\n",
        "\n",
        "coingecko_ids = ['ionic-protocol','ethereum', 'aerodrome-finance']\n",
        "price_data = get_price_data(coingecko_ids)\n",
        "\n",
        "\n",
        "latest_price_ion = price_data.iloc[-1]['ionic-protocol']\n",
        "latest_price_eth = price_data.iloc[-1]['ethereum']\n",
        "latest_price_aero = price_data.iloc[-1]['aerodrome-finance']\n",
        "\n",
        "auth.authenticate_user()\n",
        "\n",
        "creds, _ = default()\n",
        "access = gspread.authorize(creds)\n",
        "\n",
        "# Open the workbook and sheet\n",
        "wb_id_dest = '1tWPMKIqRxg_noABRmQLhti0qXwG3c8bM30bvdzvxruE'\n",
        "sheet_id_dest = 1677780990\n",
        "\n",
        "wb_dest = access.open_by_key(wb_id_dest)\n",
        "sheet_dest = wb_dest.get_worksheet_by_id(sheet_id_dest)\n",
        "\n",
        "# Update cell B1+B4 with the latest prices\n",
        "sheet_dest.update('B1', [[latest_price_ion]])\n",
        "sheet_dest.update('B4', [[latest_price_eth]])\n",
        "sheet_dest.update('D12', [[latest_price_aero]])\n",
        "\n",
        "today = date.today().strftime(\"%Y-%m-%d\")\n",
        "print(f\"Latest price ({latest_price}) exported to cell B1, B4, and D12. Last refresh {today}\")"
      ],
      "metadata": {
        "id": "_q7i8XIdjD2y"
      },
      "execution_count": null,
      "outputs": []
    },
    {
      "cell_type": "code",
      "source": [],
      "metadata": {
        "id": "CA2rz3jkkD0e"
      },
      "execution_count": null,
      "outputs": []
    }
  ]
}